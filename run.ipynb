{
 "cells": [
  {
   "cell_type": "code",
   "execution_count": null,
   "metadata": {},
   "outputs": [],
   "source": [
    "!sudo apt-get update\n",
    "!sudo apt-get install -y xvfb ffmpeg freeglut3-dev\n",
    "!pip install 'imageio==2.4.0'\n",
    "!pip install pyvirtualdisplay\n",
    "!pip install tf-agents[reverb]\n",
    "!pip install pyglet\n",
    "\n",
    "import sys\n",
    "\n",
    "if sys.platform == \"linux\" or sys.platform == \"linux2\": \n",
    "    !sudo apt update &&  sudo apt-get install ffmpeg libsm6 libxext6  -y\n",
    "    !sudo apt-get install libpython3.6-dev\n",
    "\n",
    "\n",
    "!pip install gym[atari,accept-rom-license]==0.21.0\n",
    "!pip install opencv-python==4.6.0.66"
   ]
  },
  {
   "cell_type": "code",
   "execution_count": 1,
   "metadata": {},
   "outputs": [
    {
     "name": "stderr",
     "output_type": "stream",
     "text": [
      "2022-08-20 11:54:57.178641: W tensorflow/stream_executor/platform/default/dso_loader.cc:64] Could not load dynamic library 'libcudart.so.11.0'; dlerror: libcudart.so.11.0: cannot open shared object file: No such file or directory; LD_LIBRARY_PATH: /opt/python/3.10.4/lib/python3.10/site-packages/cv2/../../lib64:\n",
      "2022-08-20 11:54:57.178679: I tensorflow/stream_executor/cuda/cudart_stub.cc:29] Ignore above cudart dlerror if you do not have a GPU set up on your machine.\n",
      "A.L.E: Arcade Learning Environment (version 0.7.5+db37282)\n",
      "[Powered by Stella]\n"
     ]
    }
   ],
   "source": [
    "import gym\n",
    "from tensorflow.keras.optimizers import Adam\n",
    "from gym.wrappers import GrayScaleObservation\n",
    "\n",
    "from boxing import Agent, undertake_learning\n",
    "\n",
    "enviroment = gym.make(\"Boxing-v4\").env"
   ]
  },
  {
   "cell_type": "code",
   "execution_count": 2,
   "metadata": {},
   "outputs": [
    {
     "name": "stdout",
     "output_type": "stream",
     "text": [
      "Number of states: (210, 160, 1)\n",
      "Number of actions: 18\n"
     ]
    },
    {
     "name": "stderr",
     "output_type": "stream",
     "text": [
      "2022-08-20 11:55:06.746322: W tensorflow/stream_executor/platform/default/dso_loader.cc:64] Could not load dynamic library 'libcuda.so.1'; dlerror: libcuda.so.1: cannot open shared object file: No such file or directory; LD_LIBRARY_PATH: /opt/python/3.10.4/lib/python3.10/site-packages/cv2/../../lib64:\n",
      "2022-08-20 11:55:06.746387: W tensorflow/stream_executor/cuda/cuda_driver.cc:269] failed call to cuInit: UNKNOWN ERROR (303)\n",
      "2022-08-20 11:55:06.746416: I tensorflow/stream_executor/cuda/cuda_diagnostics.cc:156] kernel driver does not appear to be running on this host (codespaces-698584): /proc/driver/nvidia/version does not exist\n",
      "2022-08-20 11:55:06.746731: I tensorflow/core/platform/cpu_feature_guard.cc:193] This TensorFlow binary is optimized with oneAPI Deep Neural Network Library (oneDNN) to use the following CPU instructions in performance-critical operations:  AVX2 AVX512F FMA\n",
      "To enable them in other operations, rebuild TensorFlow with the appropriate compiler flags.\n",
      "2022-08-20 11:55:06.821820: W tensorflow/core/framework/cpu_allocator_impl.cc:82] Allocation of 309657600 exceeds 10% of free system memory.\n",
      "2022-08-20 11:55:07.050203: W tensorflow/core/framework/cpu_allocator_impl.cc:82] Allocation of 309657600 exceeds 10% of free system memory.\n",
      "2022-08-20 11:55:07.114840: W tensorflow/core/framework/cpu_allocator_impl.cc:82] Allocation of 309657600 exceeds 10% of free system memory.\n",
      "2022-08-20 11:55:07.428355: W tensorflow/core/framework/cpu_allocator_impl.cc:82] Allocation of 309657600 exceeds 10% of free system memory.\n",
      "2022-08-20 11:55:07.615474: W tensorflow/core/framework/cpu_allocator_impl.cc:82] Allocation of 309657600 exceeds 10% of free system memory.\n"
     ]
    },
    {
     "name": "stdout",
     "output_type": "stream",
     "text": [
      "Model: \"model\"\n",
      "_________________________________________________________________\n",
      " Layer (type)                Output Shape              Param #   \n",
      "=================================================================\n",
      " input_1 (InputLayer)        [(None, 210, 160, 1)]     0         \n",
      "                                                                 \n",
      " dense (Dense)               (None, 210, 160, 128)     256       \n",
      "                                                                 \n",
      " activation (Activation)     (None, 210, 160, 128)     0         \n",
      "                                                                 \n",
      " dense_1 (Dense)             (None, 210, 160, 128)     16512     \n",
      "                                                                 \n",
      " activation_1 (Activation)   (None, 210, 160, 128)     0         \n",
      "                                                                 \n",
      " dense_2 (Dense)             (None, 210, 160, 128)     16512     \n",
      "                                                                 \n",
      " flatten (Flatten)           (None, 4300800)           0         \n",
      "                                                                 \n",
      " dense_3 (Dense)             (None, 18)                77414418  \n",
      "                                                                 \n",
      "=================================================================\n",
      "Total params: 77,447,698\n",
      "Trainable params: 77,447,698\n",
      "Non-trainable params: 0\n",
      "_________________________________________________________________\n"
     ]
    },
    {
     "name": "stderr",
     "output_type": "stream",
     "text": [
      "[                                                                        ]   0%\r"
     ]
    },
    {
     "ename": "",
     "evalue": "",
     "output_type": "error",
     "traceback": [
      "\u001b[1;31mCanceled future for execute_request message before replies were done"
     ]
    },
    {
     "ename": "",
     "evalue": "",
     "output_type": "error",
     "traceback": [
      "The Kernel crashed while executing code in the the current cell or a previous cell. Please review the code in the cell(s) to identify a possible cause of the failure. Click <a href='https://aka.ms/vscodeJupyterKernelCrash'>here</a> for more info. View Jupyter <a href='command:jupyter.viewOutput'>log</a> for further details."
     ]
    }
   ],
   "source": [
    "enviroment = gym.make(\"Boxing-v4\").env\n",
    "enviroment = GrayScaleObservation(env=enviroment, keep_dim=True)\n",
    "enviroment.reset()\n",
    "# enviroment.render()\n",
    "\n",
    "print('Number of states: {}'.format(enviroment.observation_space.shape))\n",
    "print('Number of actions: {}'.format(enviroment.action_space.n))\n",
    "\n",
    "optimizer = Adam(learning_rate=0.01)\n",
    "agent = Agent(enviroment, optimizer)\n",
    "agent.q_network.summary()\n",
    "    \n",
    "undertake_learning(agent)"
   ]
  },
  {
   "cell_type": "code",
   "execution_count": null,
   "metadata": {},
   "outputs": [],
   "source": []
  }
 ],
 "metadata": {
  "kernelspec": {
   "display_name": "Python 3.10.4 64-bit",
   "language": "python",
   "name": "python3"
  },
  "language_info": {
   "codemirror_mode": {
    "name": "ipython",
    "version": 3
   },
   "file_extension": ".py",
   "mimetype": "text/x-python",
   "name": "python",
   "nbconvert_exporter": "python",
   "pygments_lexer": "ipython3",
   "version": "3.10.4"
  },
  "orig_nbformat": 4,
  "vscode": {
   "interpreter": {
    "hash": "4f946df053fbf2b937619d3c5458e7af74262f9a954d8797ba0b27400bcafe06"
   }
  }
 },
 "nbformat": 4,
 "nbformat_minor": 2
}
